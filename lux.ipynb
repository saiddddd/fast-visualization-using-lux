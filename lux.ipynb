{
 "cells": [
  {
   "cell_type": "markdown",
   "id": "4fb07aeb",
   "metadata": {
    "ExecuteTime": {
     "end_time": "2022-04-18T19:32:48.745398Z",
     "start_time": "2022-04-18T19:32:48.739538Z"
    }
   },
   "source": [
    "<a href=\"source https://github.com/lux-org/lux\"> Sumber <a>"
   ]
  },
  {
   "cell_type": "markdown",
   "id": "bd13eb38",
   "metadata": {},
   "source": [
    "## instalation "
   ]
  },
  {
   "cell_type": "code",
   "execution_count": 4,
   "id": "3d7f308d",
   "metadata": {
    "ExecuteTime": {
     "end_time": "2022-04-18T19:18:00.962466Z",
     "start_time": "2022-04-18T19:18:00.942659Z"
    }
   },
   "outputs": [],
   "source": [
    "#pip install lux-api"
   ]
  },
  {
   "cell_type": "code",
   "execution_count": 15,
   "id": "c075e2e4",
   "metadata": {
    "ExecuteTime": {
     "end_time": "2022-04-18T19:16:38.075630Z",
     "start_time": "2022-04-18T19:16:38.069451Z"
    }
   },
   "outputs": [],
   "source": [
    "#pip install pyqt5==5.12.0\n",
    "#!pip install --upgrade --user pyqtwebengine==5.12\n",
    "#!pip install pycodestyle==2.7.0\n",
    "#!pip install pyflakes==2.3.0\n",
    "#!pip install typing-extensions==3.7.4"
   ]
  },
  {
   "cell_type": "raw",
   "id": "7a076e08",
   "metadata": {},
   "source": [
    "run this to your anaconda prompt:\n",
    "jupyter nbextension install --py luxwidget\n",
    "jupyter nbextension enable --py luxwidget"
   ]
  },
  {
   "cell_type": "code",
   "execution_count": null,
   "id": "e0394f0b",
   "metadata": {},
   "outputs": [],
   "source": []
  },
  {
   "cell_type": "markdown",
   "id": "b0205dbe",
   "metadata": {},
   "source": [
    "## importing necessary libraries and activities"
   ]
  },
  {
   "cell_type": "code",
   "execution_count": 1,
   "id": "9d985b36",
   "metadata": {
    "ExecuteTime": {
     "end_time": "2022-04-18T19:26:47.181549Z",
     "start_time": "2022-04-18T19:26:46.174431Z"
    }
   },
   "outputs": [],
   "source": [
    "import lux\n",
    "import pandas as pd"
   ]
  },
  {
   "cell_type": "code",
   "execution_count": null,
   "id": "ce391489",
   "metadata": {},
   "outputs": [],
   "source": []
  },
  {
   "cell_type": "code",
   "execution_count": 2,
   "id": "d04eb5c3",
   "metadata": {
    "ExecuteTime": {
     "end_time": "2022-04-18T19:26:59.839433Z",
     "start_time": "2022-04-18T19:26:50.843397Z"
    }
   },
   "outputs": [],
   "source": [
    "df = pd.read_csv(\"https://raw.githubusercontent.com/lux-org/lux-datasets/master/data/college.csv\")"
   ]
  },
  {
   "cell_type": "code",
   "execution_count": 3,
   "id": "5a66d685",
   "metadata": {
    "ExecuteTime": {
     "end_time": "2022-04-18T19:27:06.077150Z",
     "start_time": "2022-04-18T19:27:03.440175Z"
    }
   },
   "outputs": [
    {
     "data": {
      "application/vnd.jupyter.widget-view+json": {
       "model_id": "72accadf17fd43bf9a8678d4127031c4",
       "version_major": 2,
       "version_minor": 0
      },
      "text/plain": [
       "Button(description='Toggle Pandas/Lux', layout=Layout(top='5px', width='140px'), style=ButtonStyle())"
      ]
     },
     "metadata": {},
     "output_type": "display_data"
    },
    {
     "data": {
      "application/vnd.jupyter.widget-view+json": {
       "model_id": "06fe2ff76b494a188742234fc2dd1d64",
       "version_major": 2,
       "version_minor": 0
      },
      "text/plain": [
       "Output()"
      ]
     },
     "metadata": {},
     "output_type": "display_data"
    }
   ],
   "source": [
    "df"
   ]
  },
  {
   "cell_type": "code",
   "execution_count": 3,
   "id": "53174c3f",
   "metadata": {
    "ExecuteTime": {
     "end_time": "2022-04-18T19:21:29.290007Z",
     "start_time": "2022-04-18T19:21:29.272878Z"
    }
   },
   "outputs": [
    {
     "data": {
      "text/plain": [
       "Index(['Name', 'PredominantDegree', 'HighestDegree', 'FundingModel', 'Region',\n",
       "       'Geography', 'AdmissionRate', 'ACTMedian', 'SATAverage', 'AverageCost',\n",
       "       'Expenditure', 'AverageFacultySalary', 'MedianDebt',\n",
       "       'AverageAgeofEntry', 'MedianFamilyIncome', 'MedianEarnings'],\n",
       "      dtype='object')"
      ]
     },
     "execution_count": 3,
     "metadata": {},
     "output_type": "execute_result"
    }
   ],
   "source": [
    "df.columns"
   ]
  },
  {
   "cell_type": "code",
   "execution_count": 4,
   "id": "3c716ba9",
   "metadata": {
    "ExecuteTime": {
     "end_time": "2022-04-18T19:29:25.515090Z",
     "start_time": "2022-04-18T19:29:23.249500Z"
    }
   },
   "outputs": [
    {
     "data": {
      "application/vnd.jupyter.widget-view+json": {
       "model_id": "167a1a79c4b84c18a834897123dd4c87",
       "version_major": 2,
       "version_minor": 0
      },
      "text/plain": [
       "Button(description='Toggle Pandas/Lux', layout=Layout(top='5px', width='140px'), style=ButtonStyle())"
      ]
     },
     "metadata": {},
     "output_type": "display_data"
    },
    {
     "data": {
      "application/vnd.jupyter.widget-view+json": {
       "model_id": "43ae58447b2e4aa6baf868c02db3fa0d",
       "version_major": 2,
       "version_minor": 0
      },
      "text/plain": [
       "Output()"
      ]
     },
     "metadata": {},
     "output_type": "display_data"
    }
   ],
   "source": [
    "df.intent = [\"AverageCost\",\"SATAverage\"]\n",
    "df"
   ]
  },
  {
   "cell_type": "code",
   "execution_count": 5,
   "id": "793551b2",
   "metadata": {
    "ExecuteTime": {
     "end_time": "2022-04-18T19:29:58.317355Z",
     "start_time": "2022-04-18T19:29:57.943938Z"
    }
   },
   "outputs": [
    {
     "data": {
      "application/vnd.jupyter.widget-view+json": {
       "model_id": "009aa5f3635041bdafc411c484ec4242",
       "version_major": 2,
       "version_minor": 0
      },
      "text/plain": [
       "LuxWidget(recommendations=[{'action': 'Vis List', 'description': 'Shows a vis list defined by the intent', 'vs…"
      ]
     },
     "metadata": {},
     "output_type": "display_data"
    }
   ],
   "source": [
    "from lux.vis.VisList import VisList\n",
    "VisList([\"Region=?\",\"AverageCost\"],df)"
   ]
  },
  {
   "cell_type": "code",
   "execution_count": 6,
   "id": "a859ad83",
   "metadata": {
    "ExecuteTime": {
     "end_time": "2022-04-18T19:30:05.722432Z",
     "start_time": "2022-04-18T19:30:05.641597Z"
    }
   },
   "outputs": [
    {
     "data": {
      "application/vnd.jupyter.widget-view+json": {
       "model_id": "b61070bd11d34b089fa6942797e222c8",
       "version_major": 2,
       "version_minor": 0
      },
      "text/plain": [
       "LuxWidget(current_vis={'config': {'view': {'continuousWidth': 400, 'continuousHeight': 300}, 'axis': {'labelCo…"
      ]
     },
     "metadata": {},
     "output_type": "display_data"
    }
   ],
   "source": [
    "from lux.vis.Vis import Vis\n",
    "Vis([\"Region=New England\",\"MedianEarnings\"],df)"
   ]
  },
  {
   "cell_type": "code",
   "execution_count": 8,
   "id": "1c668bf7",
   "metadata": {
    "ExecuteTime": {
     "end_time": "2022-04-18T19:34:08.426227Z",
     "start_time": "2022-04-18T19:34:08.408445Z"
    }
   },
   "outputs": [],
   "source": [
    "df.default_display = \"lux\" # Set Lux as default display"
   ]
  },
  {
   "cell_type": "code",
   "execution_count": 12,
   "id": "93625731",
   "metadata": {
    "ExecuteTime": {
     "end_time": "2022-04-18T19:35:28.044492Z",
     "start_time": "2022-04-18T19:35:27.974476Z"
    }
   },
   "outputs": [
    {
     "data": {
      "application/vnd.jupyter.widget-view+json": {
       "model_id": "52411684dac644f88b07c7ca2bc96500",
       "version_major": 2,
       "version_minor": 0
      },
      "text/plain": [
       "Button(description='Toggle Pandas/Lux', layout=Layout(top='5px', width='140px'), style=ButtonStyle())"
      ]
     },
     "metadata": {},
     "output_type": "display_data"
    },
    {
     "data": {
      "application/vnd.jupyter.widget-view+json": {
       "model_id": "4014293c51d345a29228fea68e3453f3",
       "version_major": 2,
       "version_minor": 0
      },
      "text/plain": [
       "Output()"
      ]
     },
     "metadata": {},
     "output_type": "display_data"
    }
   ],
   "source": [
    "df"
   ]
  },
  {
   "cell_type": "code",
   "execution_count": 13,
   "id": "28985664",
   "metadata": {
    "ExecuteTime": {
     "end_time": "2022-04-18T19:36:27.068230Z",
     "start_time": "2022-04-18T19:36:27.059729Z"
    }
   },
   "outputs": [
    {
     "data": {
      "text/plain": [
       "{'Name': 'nominal',\n",
       " 'PredominantDegree': 'nominal',\n",
       " 'HighestDegree': 'nominal',\n",
       " 'FundingModel': 'nominal',\n",
       " 'Region': 'nominal',\n",
       " 'Geography': 'nominal',\n",
       " 'AdmissionRate': 'quantitative',\n",
       " 'ACTMedian': 'quantitative',\n",
       " 'SATAverage': 'quantitative',\n",
       " 'AverageCost': 'quantitative',\n",
       " 'Expenditure': 'quantitative',\n",
       " 'AverageFacultySalary': 'quantitative',\n",
       " 'MedianDebt': 'quantitative',\n",
       " 'AverageAgeofEntry': 'quantitative',\n",
       " 'MedianFamilyIncome': 'quantitative',\n",
       " 'MedianEarnings': 'quantitative'}"
      ]
     },
     "execution_count": 13,
     "metadata": {},
     "output_type": "execute_result"
    }
   ],
   "source": [
    "df.data_type"
   ]
  },
  {
   "cell_type": "code",
   "execution_count": null,
   "id": "590a5375",
   "metadata": {},
   "outputs": [],
   "source": []
  },
  {
   "cell_type": "code",
   "execution_count": null,
   "id": "b24880d2",
   "metadata": {},
   "outputs": [],
   "source": []
  },
  {
   "cell_type": "code",
   "execution_count": null,
   "id": "3afdc357",
   "metadata": {},
   "outputs": [],
   "source": []
  },
  {
   "cell_type": "code",
   "execution_count": null,
   "id": "c35cbe85",
   "metadata": {},
   "outputs": [],
   "source": []
  },
  {
   "cell_type": "code",
   "execution_count": null,
   "id": "7dc9d72e",
   "metadata": {},
   "outputs": [],
   "source": []
  },
  {
   "cell_type": "code",
   "execution_count": null,
   "id": "ba81339b",
   "metadata": {},
   "outputs": [],
   "source": []
  },
  {
   "cell_type": "code",
   "execution_count": null,
   "id": "a37c5206",
   "metadata": {},
   "outputs": [],
   "source": []
  },
  {
   "cell_type": "code",
   "execution_count": null,
   "id": "1ad09857",
   "metadata": {},
   "outputs": [],
   "source": []
  },
  {
   "cell_type": "code",
   "execution_count": null,
   "id": "d0ceca84",
   "metadata": {},
   "outputs": [],
   "source": []
  },
  {
   "cell_type": "code",
   "execution_count": null,
   "id": "6f3f498a",
   "metadata": {},
   "outputs": [],
   "source": []
  },
  {
   "cell_type": "code",
   "execution_count": null,
   "id": "d509e8a0",
   "metadata": {},
   "outputs": [],
   "source": []
  },
  {
   "cell_type": "code",
   "execution_count": null,
   "id": "8cdc5171",
   "metadata": {},
   "outputs": [],
   "source": []
  },
  {
   "cell_type": "code",
   "execution_count": null,
   "id": "b858d153",
   "metadata": {},
   "outputs": [],
   "source": []
  },
  {
   "cell_type": "code",
   "execution_count": null,
   "id": "c4669d4d",
   "metadata": {},
   "outputs": [],
   "source": []
  },
  {
   "cell_type": "code",
   "execution_count": null,
   "id": "2c5280a4",
   "metadata": {},
   "outputs": [],
   "source": []
  },
  {
   "cell_type": "code",
   "execution_count": null,
   "id": "b177ec29",
   "metadata": {},
   "outputs": [],
   "source": []
  },
  {
   "cell_type": "code",
   "execution_count": null,
   "id": "e007c95a",
   "metadata": {},
   "outputs": [],
   "source": []
  },
  {
   "cell_type": "code",
   "execution_count": null,
   "id": "3017c9e2",
   "metadata": {},
   "outputs": [],
   "source": []
  },
  {
   "cell_type": "code",
   "execution_count": null,
   "id": "ecefd2cc",
   "metadata": {},
   "outputs": [],
   "source": []
  },
  {
   "cell_type": "code",
   "execution_count": null,
   "id": "cd0134b7",
   "metadata": {},
   "outputs": [],
   "source": []
  },
  {
   "cell_type": "code",
   "execution_count": null,
   "id": "0de185e2",
   "metadata": {},
   "outputs": [],
   "source": []
  },
  {
   "cell_type": "code",
   "execution_count": null,
   "id": "0342786d",
   "metadata": {},
   "outputs": [],
   "source": []
  },
  {
   "cell_type": "code",
   "execution_count": null,
   "id": "ebed3171",
   "metadata": {},
   "outputs": [],
   "source": []
  },
  {
   "cell_type": "code",
   "execution_count": null,
   "id": "a36e7ed0",
   "metadata": {},
   "outputs": [],
   "source": []
  }
 ],
 "metadata": {
  "kernelspec": {
   "display_name": "Python 3",
   "language": "python",
   "name": "python3"
  },
  "language_info": {
   "codemirror_mode": {
    "name": "ipython",
    "version": 3
   },
   "file_extension": ".py",
   "mimetype": "text/x-python",
   "name": "python",
   "nbconvert_exporter": "python",
   "pygments_lexer": "ipython3",
   "version": "3.8.8"
  },
  "toc": {
   "base_numbering": 1,
   "nav_menu": {},
   "number_sections": true,
   "sideBar": true,
   "skip_h1_title": false,
   "title_cell": "Table of Contents",
   "title_sidebar": "Contents",
   "toc_cell": false,
   "toc_position": {},
   "toc_section_display": true,
   "toc_window_display": false
  }
 },
 "nbformat": 4,
 "nbformat_minor": 5
}
